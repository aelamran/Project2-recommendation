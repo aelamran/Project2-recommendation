{
 "cells": [
  {
   "cell_type": "markdown",
   "metadata": {},
   "source": [
    "# Machine Learning - Project 2 - 2018\n",
    "## Fatine Benhsain - Tabish Qureshi - Ayyoub El Amrani\n",
    "### Recommender System"
   ]
  },
  {
   "cell_type": "markdown",
   "metadata": {},
   "source": [
    "# 1. Introduction"
   ]
  },
  {
   "cell_type": "markdown",
   "metadata": {},
   "source": [
    "The goal of the project is to create a recommendation systems for movies based on data......bla bla"
   ]
  },
  {
   "cell_type": "code",
   "execution_count": 5,
   "metadata": {},
   "outputs": [],
   "source": [
    "import pandas as pd\n",
    "import numpy as np\n",
    "import seaborn as sns\n",
    "import matplotlib.pyplot as plt\n",
    "\n",
    "# Useful starting lines\n",
    "%matplotlib inline\n",
    "\n",
    "import numpy as np\n",
    "import scipy\n",
    "import scipy.io\n",
    "import scipy.sparse as sp\n",
    "import matplotlib.pyplot as plt\n",
    "%load_ext autoreload\n",
    "%autoreload 2\n",
    "\n",
    "import warnings\n",
    "warnings.filterwarnings('ignore')"
   ]
  },
  {
   "cell_type": "markdown",
   "metadata": {},
   "source": [
    "In order to preprocess and use the data, the library pandas is used. The later provides very useful tools in this framework."
   ]
  },
  {
   "cell_type": "markdown",
   "metadata": {},
   "source": [
    "# 2. Data Importation & Preprocessing"
   ]
  },
  {
   "cell_type": "markdown",
   "metadata": {},
   "source": [
    "This step is made for importing data and prepare them before implementing a machine learning method. The preprocessing includes steps such as exploration, wrangling... and can be used for feature engineering."
   ]
  },
  {
   "cell_type": "markdown",
   "metadata": {},
   "source": [
    "## 2.1 Training Set Importation"
   ]
  },
  {
   "cell_type": "code",
   "execution_count": null,
   "metadata": {},
   "outputs": [],
   "source": [
    "raw_data = pd.read_csv('data/data_train.csv')"
   ]
  },
  {
   "cell_type": "markdown",
   "metadata": {},
   "source": [
    "Before starting anything, the data will be explored in order to perform data wrangling and features engineering."
   ]
  },
  {
   "cell_type": "code",
   "execution_count": null,
   "metadata": {},
   "outputs": [],
   "source": [
    "raw_data['Prediction'].value_counts()"
   ]
  },
  {
   "cell_type": "code",
   "execution_count": null,
   "metadata": {},
   "outputs": [],
   "source": [
    "raw_data.head()"
   ]
  },
  {
   "cell_type": "markdown",
   "metadata": {},
   "source": [
    "The data are stacked into 2 columns with the Id rX_cY. X corresponds to a user and Y corresponds to the movie.\n",
    "In order to make a proper analysis, one needs to group users (same X) and the rating (Prediction) on movies (Y).\n",
    "For this sake, it is necessary to :\n",
    "1. Unstack the Id and separate X and Y\n",
    "2. Group the same X (users) as rows with corresponding movies (Y) as columns and the rating as argument of the cell."
   ]
  },
  {
   "cell_type": "markdown",
   "metadata": {},
   "source": [
    "We define a method that will split the Id into two columns : _User_ and _Movie_."
   ]
  },
  {
   "cell_type": "code",
   "execution_count": null,
   "metadata": {},
   "outputs": [],
   "source": [
    "def splitting(df,column='Id'):\n",
    "    '''\n",
    "        df : the dataframe to split\n",
    "        column : the column containing the data to split, by default it is the Id column\n",
    "    '''\n",
    "    output = df[column].str.split('(\\d+)([A-z]+)(\\d+)', expand=True)\n",
    "    output = output.loc[:,[1,3]]\n",
    "    output.rename(columns={1:'User', 2:'y', 3:'Movie'}, inplace=True)\n",
    "    output['User'] = output['User'].astype(int)\n",
    "    output['Movie'] = output['Movie'].astype(int)\n",
    "    return output"
   ]
  },
  {
   "cell_type": "code",
   "execution_count": null,
   "metadata": {},
   "outputs": [],
   "source": [
    "#Splitting of the Id:\n",
    "split = splitting(raw_data)\n",
    "split.head()"
   ]
  },
  {
   "cell_type": "code",
   "execution_count": null,
   "metadata": {},
   "outputs": [],
   "source": [
    "split['eval']=raw_data['Prediction']"
   ]
  },
  {
   "cell_type": "code",
   "execution_count": null,
   "metadata": {},
   "outputs": [],
   "source": [
    "split.info()"
   ]
  },
  {
   "cell_type": "markdown",
   "metadata": {},
   "source": [
    "Now the splitting is done, one needs to create a table to match users with the movies they rated:"
   ]
  },
  {
   "cell_type": "code",
   "execution_count": null,
   "metadata": {},
   "outputs": [],
   "source": [
    "rating_table = split.pivot(index = 'User', columns = 'Movie', values = 'eval')"
   ]
  },
  {
   "cell_type": "code",
   "execution_count": null,
   "metadata": {},
   "outputs": [],
   "source": [
    "rating_table.head()"
   ]
  },
  {
   "cell_type": "markdown",
   "metadata": {},
   "source": [
    "<b>Now, the dataset is more readable and it is now possible to start analysis."
   ]
  },
  {
   "cell_type": "markdown",
   "metadata": {},
   "source": [
    "## 2.2 Data Preprocessing"
   ]
  },
  {
   "cell_type": "markdown",
   "metadata": {},
   "source": [
    "### 2.2.1 Data Exploration"
   ]
  },
  {
   "cell_type": "markdown",
   "metadata": {},
   "source": [
    "It is important to explore the data in order to have an overview of the dataset.\n",
    "\n",
    "It is possible for example to have an idea of:\n",
    "* The most/less watched movies\n",
    "* The most/less well rated\n",
    "* ..."
   ]
  },
  {
   "cell_type": "code",
   "execution_count": null,
   "metadata": {},
   "outputs": [],
   "source": [
    "#Top 10 movies that have been rated:\n",
    "rating_table.isnull().describe().transpose().sort_values('freq').head(10)"
   ]
  },
  {
   "cell_type": "code",
   "execution_count": null,
   "metadata": {},
   "outputs": [],
   "source": [
    "#Top 10 movies that have not been rated:\n",
    "rating_table.isnull().describe().transpose().sort_values('freq', ascending = False).head(10)"
   ]
  },
  {
   "cell_type": "code",
   "execution_count": null,
   "metadata": {},
   "outputs": [],
   "source": [
    "rating_table[1].value_counts()"
   ]
  },
  {
   "cell_type": "code",
   "execution_count": null,
   "metadata": {},
   "outputs": [],
   "source": [
    "#The distribution of the mean of the rating of each movie\n",
    "means = split.groupby('Movie').mean()\n",
    "means = means['eval']\n",
    "means.plot(kind='hist',figsize=(10,10),title='Distribution of the ratings of the movies')"
   ]
  },
  {
   "cell_type": "markdown",
   "metadata": {},
   "source": [
    "# 3.2 Alternating Least Squares (ALS)"
   ]
  },
  {
   "cell_type": "markdown",
   "metadata": {},
   "source": [
    "## Data Loading:"
   ]
  },
  {
   "cell_type": "markdown",
   "metadata": {},
   "source": [
    "Les fonctions du cours ne sont pas compatibles avec les pandas DF, les données sont donc loadées autrement:"
   ]
  },
  {
   "cell_type": "code",
   "execution_count": 1,
   "metadata": {},
   "outputs": [
    {
     "name": "stdout",
     "output_type": "stream",
     "text": [
      "number of items: 10000, number of users: 1000\n"
     ]
    }
   ],
   "source": [
    "from helpers import load_data, preprocess_data\n",
    "\n",
    "path_dataset = 'data/data_train.csv'\n",
    "ratings = load_data(path_dataset)"
   ]
  },
  {
   "cell_type": "code",
   "execution_count": 24,
   "metadata": {},
   "outputs": [
    {
     "name": "stdout",
     "output_type": "stream",
     "text": [
      "number of items: 10000, number of users: 1000\n"
     ]
    }
   ],
   "source": [
    "test_rating = load_data('data/sample_submission.csv')\n",
    "\n",
    "test_rating.shape"
   ]
  },
  {
   "cell_type": "markdown",
   "metadata": {},
   "source": [
    "## Number of Ratings per Movie & Users:"
   ]
  },
  {
   "cell_type": "code",
   "execution_count": 2,
   "metadata": {},
   "outputs": [
    {
     "data": {
      "text/plain": [
       "<Figure size 640x480 with 2 Axes>"
      ]
     },
     "metadata": {},
     "output_type": "display_data"
    },
    {
     "name": "stdout",
     "output_type": "stream",
     "text": [
      "min # of items per user = 8, min # of users per item = 3.\n"
     ]
    }
   ],
   "source": [
    "from plots import plot_raw_data\n",
    "\n",
    "num_items_per_user, num_users_per_item = plot_raw_data(ratings)\n",
    "\n",
    "print(\"min # of items per user = {}, min # of users per item = {}.\".format(\n",
    "        min(num_items_per_user), min(num_users_per_item)))"
   ]
  },
  {
   "cell_type": "markdown",
   "metadata": {},
   "source": [
    "## Splitting the Data between Traning & Testing sets:"
   ]
  },
  {
   "cell_type": "code",
   "execution_count": 3,
   "metadata": {},
   "outputs": [],
   "source": [
    "def split_data(ratings, num_items_per_user, num_users_per_item,\n",
    "               min_num_ratings, p_test=0.1):\n",
    "    \"\"\"split the ratings to training data and test data.\n",
    "    Args:\n",
    "        min_num_ratings: \n",
    "            all users and items we keep must have at least min_num_ratings per user and per item. \n",
    "    \"\"\"\n",
    "    # set seed\n",
    "    np.random.seed(988)\n",
    "    \n",
    "    # select user and item based on the condition.\n",
    "    valid_users = np.where(num_items_per_user >= min_num_ratings)[0]\n",
    "    valid_items = np.where(num_users_per_item >= min_num_ratings)[0]\n",
    "    valid_ratings = ratings[valid_items, :][: , valid_users]  \n",
    "    \n",
    "    # init\n",
    "    num_rows, num_cols = valid_ratings.shape\n",
    "    train = sp.lil_matrix((num_rows, num_cols))\n",
    "    test = sp.lil_matrix((num_rows, num_cols))\n",
    "    \n",
    "    print(\"the shape of original ratings. (# of row, # of col): {}\".format(\n",
    "        ratings.shape))\n",
    "    print(\"the shape of valid ratings. (# of row, # of col): {}\".format(\n",
    "        (num_rows, num_cols)))\n",
    "\n",
    "    nz_items, nz_users = valid_ratings.nonzero()\n",
    "    \n",
    "    # split the data\n",
    "    for user in set(nz_users):\n",
    "        # randomly select a subset of ratings\n",
    "        row, col = valid_ratings[:, user].nonzero()\n",
    "        selects = np.random.choice(row, size=int(len(row) * p_test))\n",
    "        residual = list(set(row) - set(selects))\n",
    "\n",
    "        # add to train set\n",
    "        train[residual, user] = valid_ratings[residual, user]\n",
    "\n",
    "        # add to test set\n",
    "        test[selects, user] = valid_ratings[selects, user]\n",
    "\n",
    "    print(\"Total number of nonzero elements in origial data:{v}\".format(v=ratings.nnz))\n",
    "    print(\"Total number of nonzero elements in train data:{v}\".format(v=train.nnz))\n",
    "    print(\"Total number of nonzero elements in test data:{v}\".format(v=test.nnz))\n",
    "    return valid_ratings, train, test"
   ]
  },
  {
   "cell_type": "code",
   "execution_count": 6,
   "metadata": {},
   "outputs": [
    {
     "name": "stdout",
     "output_type": "stream",
     "text": [
      "the shape of original ratings. (# of row, # of col): (10000, 1000)\n",
      "the shape of valid ratings. (# of row, # of col): (9990, 999)\n",
      "Total number of nonzero elements in origial data:1176952\n",
      "Total number of nonzero elements in train data:1065253\n",
      "Total number of nonzero elements in test data:111620\n"
     ]
    },
    {
     "data": {
      "image/png": "[encoded data removed]",
      "text/plain": [
       "<Figure size 432x288 with 2 Axes>"
      ]
     },
     "metadata": {},
     "output_type": "display_data"
    }
   ],
   "source": [
    "from plots import plot_train_test_data\n",
    "\n",
    "valid_ratings, train, test = split_data(\n",
    "    ratings, num_items_per_user, num_users_per_item, min_num_ratings=10, p_test=0.1)\n",
    "plot_train_test_data(train, test)"
   ]
  },
  {
   "cell_type": "markdown",
   "metadata": {},
   "source": [
    "## Learn Matrix Factorization using ALS:"
   ]
  },
  {
   "cell_type": "code",
   "execution_count": 38,
   "metadata": {},
   "outputs": [],
   "source": [
    "from helpers import *"
   ]
  },
  {
   "cell_type": "markdown",
   "metadata": {},
   "source": [
    "To Perform the ALS model, one needs to initialize the parameters for the Matrix Factorization:"
   ]
  },
  {
   "cell_type": "code",
   "execution_count": 42,
   "metadata": {},
   "outputs": [],
   "source": [
    "def init_MF(train, num_features):\n",
    "    \"\"\" \n",
    "    Source: Lab 10 Solutions\n",
    "    \"\"\"\n",
    "    num_users, num_items = train.shape\n",
    "    user_features = np.random.rand(num_features, num_users)\n",
    "    item_features = np.random.rand(num_features, num_items)\n",
    "\n",
    "    # Sum up each ratings for each movie \n",
    "    item_sum = train.sum(axis=0)\n",
    "    item_nnz = train.getnnz(axis=0)\n",
    "\n",
    "    # set the first item features to the sum of the ratings divided by the number of nonzero items\n",
    "    for item_index in range(num_items):\n",
    "        item_features[0, item_index] = int(item_sum[0, item_index]/item_nnz[item_index])\n",
    "        \n",
    "    return user_features, item_features"
   ]
  },
  {
   "cell_type": "markdown",
   "metadata": {},
   "source": [
    "The function below will update the user-feature matrix Z:"
   ]
  },
  {
   "cell_type": "code",
   "execution_count": 39,
   "metadata": {},
   "outputs": [],
   "source": [
    "def update_user_feature(train, item_features, num_features, lambda_user, nz_user_itemindices):\n",
    "    num_users = train.shape[0]\n",
    "    user_features = np.zeros((num_features, num_users))\n",
    "\n",
    "    for user, items in nz_user_itemindices:\n",
    "        W = item_features[:, items]\n",
    "        \n",
    "        A = W @ W.T + lambda_user * sp.eye(num_features)\n",
    "        b = W @ train[user, items].T\n",
    "        \n",
    "        x = np.linalg.solve(A, b)\n",
    "        \n",
    "        user_features[:, user] = np.copy(x.T)\n",
    "        \n",
    "    return user_features"
   ]
  },
  {
   "cell_type": "markdown",
   "metadata": {},
   "source": [
    "The function below will update the item-feature Matrix W:"
   ]
  },
  {
   "cell_type": "code",
   "execution_count": 43,
   "metadata": {},
   "outputs": [],
   "source": [
    "def update_item_feature(train, user_features, num_features, lambda_item, nz_item_userindices):\n",
    "\n",
    "    num_items = train.shape[1]\n",
    "    item_features = np.zeros((num_features, num_items))\n",
    "\n",
    "    for item, users in nz_item_userindices:\n",
    "        W = user_features[:, users]\n",
    "        \n",
    "        A = W @ W.T + lambda_item * sp.eye(num_features)\n",
    "        b = W @ train[users, item]\n",
    "        \n",
    "        x = np.linalg.solve(A, b)\n",
    "        \n",
    "        item_features[:, item] = np.copy(x.T)\n",
    "        \n",
    "    return item_features"
   ]
  },
  {
   "cell_type": "markdown",
   "metadata": {},
   "source": [
    "Computation of the Mean Squared Error between predictions and nonzero train elements"
   ]
  },
  {
   "cell_type": "code",
   "execution_count": 44,
   "metadata": {},
   "outputs": [],
   "source": [
    "def compute_error(data, user_features, item_features, nz):\n",
    "\n",
    "    mse = 0\n",
    "    pred = np.dot(user_features.T, item_features)\n",
    "    \n",
    "    for row, col in nz:\n",
    "        mse += np.square((data[row, col] - pred[row, col]))\n",
    "\n",
    "    return np.sqrt(mse/len(nz))"
   ]
  },
  {
   "cell_type": "markdown",
   "metadata": {},
   "source": [
    "Now, it is possible to perform ALS and compute errors"
   ]
  },
  {
   "cell_type": "code",
   "execution_count": 45,
   "metadata": {},
   "outputs": [],
   "source": [
    "def calculate_als(train, test, test_ratings, seed=988, num_features=15, m_iter=10, lambda_user=1., lambda_item=0.007, change=1, stop_criterion=1e-4):\n",
    "    \"\"\"\n",
    "    Use Alternating Least Squares (ALS) algorithm to generate predictions\n",
    "    \"\"\"\n",
    "    error_list = [0]\n",
    "    itr = 0\n",
    "    np.random.seed(seed)\n",
    "\n",
    "    # Initialize W and Z with random small numbers\n",
    "    user_features, item_features = init_MF(train, num_features)\n",
    "    \n",
    "    # Group the indices by row or column index\n",
    "    nz_train, nz_user_itemindices, nz_item_userindices = build_index_groups(train)\n",
    "    \n",
    "    while change > stop_criterion and itr < m_iter:\n",
    "        \n",
    "        # Update W and Z\n",
    "        user_features = update_user_feature(train, item_features, num_features, lambda_user, nz_user_itemindices)\n",
    "        item_features = update_item_feature(train, user_features, num_features, lambda_item, nz_item_userindices)\n",
    "\n",
    "        rmse = compute_error(train, user_features, item_features, nz_train)\n",
    "        print(\"RMSE on training set: {}.\".format(rmse))\n",
    "        change = np.fabs(rmse - error_list[-1])\n",
    "        error_list.append(rmse)\n",
    "        itr = itr + 1\n",
    "\n",
    "        # Calculate the RMSE\n",
    "        nnz_row, nnz_col = test.nonzero()\n",
    "        nnz_test = list(zip(nnz_row, nnz_col))\n",
    "        rmse = compute_error(test, user_features, item_features, nnz_test)\n",
    "        print(\"Test RMSE after running ALS: {s}\".format(s=rmse))\n",
    "\n",
    "        num_users = test_ratings.shape[0]\n",
    "        num_items = test_ratings.shape[1]\n",
    "        pred_als = sp.lil_matrix((num_users, num_items))\n",
    "    \n",
    "    # Multiply the 2 matrices to get X \n",
    "    for user in range(num_users):\n",
    "        for item in range(num_items):\n",
    "            item_info = item_features[:, item]\n",
    "            user_info = user_features[:, user]\n",
    "            pred_als[user, item] = user_info.T.dot(item_info)\n",
    "\n",
    "    return pred_als"
   ]
  },
  {
   "cell_type": "code",
   "execution_count": 46,
   "metadata": {},
   "outputs": [
    {
     "name": "stdout",
     "output_type": "stream",
     "text": [
      "RMSE on training set: 0.9138427641666631.\n",
      "Test RMSE after running ALS: 1.0680685243150878\n",
      "RMSE on training set: 0.8894586012503871.\n",
      "Test RMSE after running ALS: 1.0760310077303175\n",
      "RMSE on training set: 0.8756579032764699.\n",
      "Test RMSE after running ALS: 1.0792335347531201\n",
      "RMSE on training set: 0.8673220276225581.\n",
      "Test RMSE after running ALS: 1.0819458096154846\n",
      "RMSE on training set: 0.8621054545044858.\n",
      "Test RMSE after running ALS: 1.084910457268882\n",
      "RMSE on training set: 0.8585767704544748.\n",
      "Test RMSE after running ALS: 1.0876765766222312\n",
      "RMSE on training set: 0.8560585829649244.\n",
      "Test RMSE after running ALS: 1.0901101931320065\n",
      "RMSE on training set: 0.8541893176930065.\n",
      "Test RMSE after running ALS: 1.0922394948906404\n",
      "RMSE on training set: 0.8527543454993662.\n",
      "Test RMSE after running ALS: 1.0941118747966565\n",
      "RMSE on training set: 0.8516200367346703.\n",
      "Test RMSE after running ALS: 1.0957802587912941\n"
     ]
    },
    {
     "ename": "IndexError",
     "evalue": "index 999 is out of bounds for axis 1 with size 999",
     "output_type": "error",
     "traceback": [
      "\u001b[0;31m---------------------------------------------------------------------------\u001b[0m",
      "\u001b[0;31mIndexError\u001b[0m                                Traceback (most recent call last)",
      "\u001b[0;32m<ipython-input-46-60a9f09a18a3>\u001b[0m in \u001b[0;36m<module>\u001b[0;34m()\u001b[0m\n\u001b[0;32m----> 1\u001b[0;31m \u001b[0mprediction\u001b[0m \u001b[0;34m=\u001b[0m \u001b[0mcalculate_als\u001b[0m\u001b[0;34m(\u001b[0m\u001b[0mtrain\u001b[0m\u001b[0;34m,\u001b[0m \u001b[0mtest\u001b[0m\u001b[0;34m,\u001b[0m \u001b[0mtest_rating\u001b[0m\u001b[0;34m)\u001b[0m\u001b[0;34m\u001b[0m\u001b[0m\n\u001b[0m",
      "\u001b[0;32m<ipython-input-45-9b342a4e265f>\u001b[0m in \u001b[0;36mcalculate_als\u001b[0;34m(train, test, test_ratings, seed, num_features, m_iter, lambda_user, lambda_item, change, stop_criterion)\u001b[0m\n\u001b[1;32m     38\u001b[0m     \u001b[0;32mfor\u001b[0m \u001b[0muser\u001b[0m \u001b[0;32min\u001b[0m \u001b[0mrange\u001b[0m\u001b[0;34m(\u001b[0m\u001b[0mnum_users\u001b[0m\u001b[0;34m)\u001b[0m\u001b[0;34m:\u001b[0m\u001b[0;34m\u001b[0m\u001b[0m\n\u001b[1;32m     39\u001b[0m         \u001b[0;32mfor\u001b[0m \u001b[0mitem\u001b[0m \u001b[0;32min\u001b[0m \u001b[0mrange\u001b[0m\u001b[0;34m(\u001b[0m\u001b[0mnum_items\u001b[0m\u001b[0;34m)\u001b[0m\u001b[0;34m:\u001b[0m\u001b[0;34m\u001b[0m\u001b[0m\n\u001b[0;32m---> 40\u001b[0;31m             \u001b[0mitem_info\u001b[0m \u001b[0;34m=\u001b[0m \u001b[0mitem_features\u001b[0m\u001b[0;34m[\u001b[0m\u001b[0;34m:\u001b[0m\u001b[0;34m,\u001b[0m \u001b[0mitem\u001b[0m\u001b[0;34m]\u001b[0m\u001b[0;34m\u001b[0m\u001b[0m\n\u001b[0m\u001b[1;32m     41\u001b[0m             \u001b[0muser_info\u001b[0m \u001b[0;34m=\u001b[0m \u001b[0muser_features\u001b[0m\u001b[0;34m[\u001b[0m\u001b[0;34m:\u001b[0m\u001b[0;34m,\u001b[0m \u001b[0muser\u001b[0m\u001b[0;34m]\u001b[0m\u001b[0;34m\u001b[0m\u001b[0m\n\u001b[1;32m     42\u001b[0m             \u001b[0mpred_als\u001b[0m\u001b[0;34m[\u001b[0m\u001b[0muser\u001b[0m\u001b[0;34m,\u001b[0m \u001b[0mitem\u001b[0m\u001b[0;34m]\u001b[0m \u001b[0;34m=\u001b[0m \u001b[0muser_info\u001b[0m\u001b[0;34m.\u001b[0m\u001b[0mT\u001b[0m\u001b[0;34m.\u001b[0m\u001b[0mdot\u001b[0m\u001b[0;34m(\u001b[0m\u001b[0mitem_info\u001b[0m\u001b[0;34m)\u001b[0m\u001b[0;34m\u001b[0m\u001b[0m\n",
      "\u001b[0;31mIndexError\u001b[0m: index 999 is out of bounds for axis 1 with size 999"
     ]
    }
   ],
   "source": [
    "prediction = calculate_als(train, test, test_rating)"
   ]
  },
  {
   "cell_type": "code",
   "execution_count": 51,
   "metadata": {},
   "outputs": [
    {
     "data": {
      "text/plain": [
       "1000"
      ]
     },
     "execution_count": 51,
     "metadata": {},
     "output_type": "execute_result"
    }
   ],
   "source": [
    "test_rating.shape[1]"
   ]
  },
  {
   "cell_type": "markdown",
   "metadata": {},
   "source": [
    "# 4. Predictions on the submission"
   ]
  },
  {
   "cell_type": "markdown",
   "metadata": {},
   "source": [
    "We first open the csv containing the sample in order to obtain the testing data, we then split this data to get the users and movies in seperate columns using our defined method."
   ]
  },
  {
   "cell_type": "code",
   "execution_count": null,
   "metadata": {},
   "outputs": [],
   "source": [
    "submission = pd.read_csv('data/sample_submission.csv')"
   ]
  },
  {
   "cell_type": "code",
   "execution_count": null,
   "metadata": {},
   "outputs": [],
   "source": [
    "submission.head()"
   ]
  },
  {
   "cell_type": "code",
   "execution_count": null,
   "metadata": {},
   "outputs": [],
   "source": [
    "test = splitting(submission)"
   ]
  }
 ],
 "metadata": {
  "kernelspec": {
   "display_name": "Python 3",
   "language": "python",
   "name": "python3"
  },
  "language_info": {
   "codemirror_mode": {
    "name": "ipython",
    "version": 3
   },
   "file_extension": ".py",
   "mimetype": "text/x-python",
   "name": "python",
   "nbconvert_exporter": "python",
   "pygments_lexer": "ipython3",
   "version": "3.6.5"
  }
 },
 "nbformat": 4,
 "nbformat_minor": 2
}
